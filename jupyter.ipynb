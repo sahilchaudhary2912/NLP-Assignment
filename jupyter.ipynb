{
 "cells": [
  {
   "cell_type": "markdown",
   "id": "662c071b",
   "metadata": {},
   "source": [
    "Q1) Take a custom paragraph, perform the entire pipeline and Print results at each step.\n",
    "\n",
    "Tokenization → Stopword Removal → Stemming → Lemmatization."
   ]
  },
  {
   "cell_type": "markdown",
   "id": "0de3a3bc",
   "metadata": {},
   "source": [
    "# Import Libraries "
   ]
  },
  {
   "cell_type": "code",
   "execution_count": 1,
   "id": "978c2465",
   "metadata": {},
   "outputs": [],
   "source": [
    "import nltk\n",
    "from nltk.tokenize import word_tokenize\n",
    "from nltk.corpus import stopwords\n",
    "from nltk.stem import PorterStemmer, WordNetLemmatizer"
   ]
  },
  {
   "cell_type": "markdown",
   "id": "f7f9a7e9",
   "metadata": {},
   "source": [
    "# Download required resources "
   ]
  },
  {
   "cell_type": "code",
   "execution_count": null,
   "id": "8b60008c",
   "metadata": {},
   "outputs": [
    {
     "name": "stderr",
     "output_type": "stream",
     "text": [
      "[nltk_data] Downloading package punkt to\n",
      "[nltk_data]     C:\\Users\\ESHA\\AppData\\Roaming\\nltk_data...\n",
      "[nltk_data]   Unzipping tokenizers\\punkt.zip.\n",
      "[nltk_data] Downloading package stopwords to\n",
      "[nltk_data]     C:\\Users\\ESHA\\AppData\\Roaming\\nltk_data...\n",
      "[nltk_data]   Unzipping corpora\\stopwords.zip.\n",
      "[nltk_data] Downloading package wordnet to\n",
      "[nltk_data]     C:\\Users\\ESHA\\AppData\\Roaming\\nltk_data...\n",
      "[nltk_data] Downloading package omw-1.4 to\n",
      "[nltk_data]     C:\\Users\\ESHA\\AppData\\Roaming\\nltk_data...\n"
     ]
    },
    {
     "data": {
      "text/plain": [
       "True"
      ]
     },
     "execution_count": 2,
     "metadata": {},
     "output_type": "execute_result"
    }
   ],
   "source": [
    "\n",
    "nltk.download('punkt')\n",
    "nltk.download('stopwords')\n",
    "nltk.download('wordnet')\n",
    "nltk.download('omw-1.4')"
   ]
  },
  {
   "cell_type": "markdown",
   "id": "23d1af31",
   "metadata": {},
   "source": [
    "# Custom paragraph"
   ]
  },
  {
   "cell_type": "code",
   "execution_count": null,
   "id": "bc04a39c",
   "metadata": {},
   "outputs": [],
   "source": [
    "\n",
    "paragraph = \"\"\"Natural Language Processing is an exciting field of Artificial Intelligence. \n",
    "It allows computers to understand, interpret, and generate human language effectively.\"\"\""
   ]
  },
  {
   "cell_type": "code",
   "execution_count": 4,
   "id": "82667b9e",
   "metadata": {},
   "outputs": [
    {
     "name": "stdout",
     "output_type": "stream",
     "text": [
      "Original Paragraph:\n",
      "Natural Language Processing is an exciting field of Artificial Intelligence. \n",
      "It allows computers to understand, interpret, and generate human language effectively.\n",
      "--------------------------------------------------\n"
     ]
    }
   ],
   "source": [
    "print(\"Original Paragraph:\")\n",
    "print(paragraph)\n",
    "print(\"--------------------------------------------------\")"
   ]
  },
  {
   "cell_type": "markdown",
   "id": "1963aebc",
   "metadata": {},
   "source": [
    "# 1) Tokenization"
   ]
  },
  {
   "cell_type": "code",
   "execution_count": null,
   "id": "df51f1fa",
   "metadata": {},
   "outputs": [
    {
     "name": "stderr",
     "output_type": "stream",
     "text": [
      "[nltk_data] Downloading package punkt_tab to\n",
      "[nltk_data]     C:\\Users\\ESHA\\AppData\\Roaming\\nltk_data...\n",
      "[nltk_data]   Unzipping tokenizers\\punkt_tab.zip.\n"
     ]
    },
    {
     "name": "stdout",
     "output_type": "stream",
     "text": [
      "Step 1 - Tokenization:\n",
      "['Natural', 'Language', 'Processing', 'is', 'an', 'exciting', 'field', 'of', 'Artificial', 'Intelligence', '.', 'It', 'allows', 'computers', 'to', 'understand', ',', 'interpret', ',', 'and', 'generate', 'human', 'language', 'effectively', '.']\n",
      "--------------------------------------------------\n"
     ]
    }
   ],
   "source": [
    "# Ensure punkt_tab is downloaded\n",
    "import nltk\n",
    "nltk.download('punkt_tab')\n",
    "\n",
    "\n",
    "tokens = word_tokenize(paragraph)\n",
    "print(\"Step 1 - Tokenization:\")\n",
    "print(tokens)\n",
    "print(\"--------------------------------------------------\")"
   ]
  },
  {
   "cell_type": "markdown",
   "id": "4c8f838e",
   "metadata": {},
   "source": [
    "# 2) Stopword Removal"
   ]
  },
  {
   "cell_type": "code",
   "execution_count": null,
   "id": "36dcff62",
   "metadata": {},
   "outputs": [
    {
     "name": "stdout",
     "output_type": "stream",
     "text": [
      "Step 2 - Stopword Removal:\n",
      "['Natural', 'Language', 'Processing', 'exciting', 'field', 'Artificial', 'Intelligence', 'allows', 'computers', 'understand', 'interpret', 'generate', 'human', 'language', 'effectively']\n",
      "--------------------------------------------------\n"
     ]
    }
   ],
   "source": [
    "\n",
    "stop_words = set(stopwords.words('english'))\n",
    "filtered_tokens = [word for word in tokens if word.lower() not in stop_words and word.isalpha()]\n",
    "print(\"Step 2 - Stopword Removal:\")\n",
    "print(filtered_tokens)\n",
    "print(\"--------------------------------------------------\")"
   ]
  },
  {
   "cell_type": "markdown",
   "id": "f09dda31",
   "metadata": {},
   "source": [
    "# 3) Stemming"
   ]
  },
  {
   "cell_type": "code",
   "execution_count": null,
   "id": "634af166",
   "metadata": {},
   "outputs": [
    {
     "name": "stdout",
     "output_type": "stream",
     "text": [
      "Step 3 - Stemming:\n",
      "['natur', 'languag', 'process', 'excit', 'field', 'artifici', 'intellig', 'allow', 'comput', 'understand', 'interpret', 'gener', 'human', 'languag', 'effect']\n",
      "--------------------------------------------------\n"
     ]
    }
   ],
   "source": [
    "\n",
    "stemmer = PorterStemmer()\n",
    "stemmed_words = [stemmer.stem(word) for word in filtered_tokens]\n",
    "print(\"Step 3 - Stemming:\")\n",
    "print(stemmed_words)\n",
    "print(\"--------------------------------------------------\")"
   ]
  },
  {
   "cell_type": "markdown",
   "id": "4833761d",
   "metadata": {},
   "source": [
    "# 4) Lemmatization"
   ]
  },
  {
   "cell_type": "code",
   "execution_count": null,
   "id": "6f46fc73",
   "metadata": {},
   "outputs": [
    {
     "name": "stdout",
     "output_type": "stream",
     "text": [
      "Step 4 - Lemmatization:\n",
      "['Natural', 'Language', 'Processing', 'exciting', 'field', 'Artificial', 'Intelligence', 'allows', 'computer', 'understand', 'interpret', 'generate', 'human', 'language', 'effectively']\n",
      "--------------------------------------------------\n"
     ]
    }
   ],
   "source": [
    "\n",
    "lemmatizer = WordNetLemmatizer()\n",
    "lemmatized_words = [lemmatizer.lemmatize(word) for word in filtered_tokens]\n",
    "print(\"Step 4 - Lemmatization:\")\n",
    "print(lemmatized_words)\n",
    "print(\"--------------------------------------------------\")"
   ]
  },
  {
   "cell_type": "markdown",
   "id": "6351ecf8",
   "metadata": {},
   "source": []
  }
 ],
 "metadata": {
  "kernelspec": {
   "display_name": "Python 3",
   "language": "python",
   "name": "python3"
  },
  "language_info": {
   "codemirror_mode": {
    "name": "ipython",
    "version": 3
   },
   "file_extension": ".py",
   "mimetype": "text/x-python",
   "name": "python",
   "nbconvert_exporter": "python",
   "pygments_lexer": "ipython3",
   "version": "3.12.4"
  }
 },
 "nbformat": 4,
 "nbformat_minor": 5
}
